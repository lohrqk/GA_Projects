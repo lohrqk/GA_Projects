{
 "cells": [
  {
   "cell_type": "code",
   "execution_count": 1,
   "metadata": {},
   "outputs": [],
   "source": [
    "import pandas as pd\n",
    "import numpy as np"
   ]
  },
  {
   "cell_type": "markdown",
   "metadata": {},
   "source": [
    "## Data Dictionary"
   ]
  },
  {
   "cell_type": "markdown",
   "metadata": {},
   "source": [
    "The training set consists of data from 2007, 2009, 2011, and 2013,<br>\n",
    "while in the test set you are requested to predict the test results for 2008, 2010, 2012, and 2014.\n",
    "\n",
    " - **Id:** id of the record\n",
    "<br>\n",
    " - **Date:** date that the WNV test is performed\n",
    "<br>\n",
    " - **Address:** approximate address of the location of trap. This is used to send to the GeoCoder.\n",
    "<br>\n",
    " - **Species:** the species of mosquitos\n",
    "<br>\n",
    " - **Block:** block number of address\n",
    "<br>\n",
    " - **Street:** street name\n",
    "<br>\n",
    " - **Trap:** Id of the trap\n",
    "<br>\n",
    " - **AddressNumberAndStreet:** approximate address returned from GeoCoder\n",
    "<br>\n",
    " - **Latitude, Longitude:** Latitude and Longitude returned from GeoCoder\n",
    "<br>\n",
    " - **AddressAccuracy:** accuracy returned from GeoCoder\n",
    "<br>\n",
    " - **NumMosquitos:** number of mosquitoes caught in this trap\n",
    "<br>\n",
    " - **WnvPresent:** whether West Nile Virus was present in these mosquitos. 1 means WNV is present, and 0 means not present. "
   ]
  },
  {
   "cell_type": "code",
   "execution_count": 2,
   "metadata": {},
   "outputs": [],
   "source": [
    "# Locating the dataset paths\n",
    "train_path = \"./datasets/train.csv\"\n",
    "test_path = \"./datasets/test.csv\"\n",
    "weather_path = \"./datasets/weather.csv\"\n",
    "spray_path = \"./datasets/spray.csv\""
   ]
  },
  {
   "cell_type": "code",
   "execution_count": 3,
   "metadata": {},
   "outputs": [],
   "source": [
    "# Reading them into notebook as pd dataframes\n",
    "train = pd.read_csv(train_path)\n",
    "test = pd.read_csv(test_path)\n",
    "weather = pd.read_csv(weather_path)\n",
    "spray = pd.read_csv(spray_path)"
   ]
  },
  {
   "cell_type": "code",
   "execution_count": 4,
   "metadata": {},
   "outputs": [],
   "source": [
    "# Setting target value\n",
    "labels = train.WnvPresent"
   ]
  },
  {
   "cell_type": "code",
   "execution_count": 5,
   "metadata": {},
   "outputs": [
    {
     "name": "stdout",
     "output_type": "stream",
     "text": [
      "(10506, 12)\n",
      "(116293, 11)\n",
      "(2944, 22)\n",
      "(14835, 4)\n"
     ]
    }
   ],
   "source": [
    "print(train.shape)\n",
    "print(test.shape)\n",
    "print(weather.shape)\n",
    "print(spray.shape)"
   ]
  },
  {
   "cell_type": "markdown",
   "metadata": {},
   "source": [
    "Train and test set:\n",
    "<br>\n",
    " - Longtitude and latitude is sufficient for acquiring location of the trap, therefore other address values are redundant. \n",
    " - Id feature is irrelevant and will also be dropped.\n",
    " - Label values (WnvPresent) have been extracted and can be dropped from the train set.\n",
    " - NumMosquitos values are not present in the test set and will be dropped from the train set."
   ]
  },
  {
   "cell_type": "code",
   "execution_count": 6,
   "metadata": {},
   "outputs": [],
   "source": [
    "# Saved NumMosquitos for possible modelling purposes \n",
    "mozzies = train[['Date', 'Species', 'Trap', 'Latitude', 'Longitude', 'NumMosquitos']]"
   ]
  },
  {
   "cell_type": "code",
   "execution_count": 7,
   "metadata": {},
   "outputs": [
    {
     "data": {
      "text/html": [
       "<div>\n",
       "<style scoped>\n",
       "    .dataframe tbody tr th:only-of-type {\n",
       "        vertical-align: middle;\n",
       "    }\n",
       "\n",
       "    .dataframe tbody tr th {\n",
       "        vertical-align: top;\n",
       "    }\n",
       "\n",
       "    .dataframe thead th {\n",
       "        text-align: right;\n",
       "    }\n",
       "</style>\n",
       "<table border=\"1\" class=\"dataframe\">\n",
       "  <thead>\n",
       "    <tr style=\"text-align: right;\">\n",
       "      <th></th>\n",
       "      <th></th>\n",
       "      <th></th>\n",
       "      <th></th>\n",
       "      <th></th>\n",
       "      <th>NumMosquitos</th>\n",
       "    </tr>\n",
       "    <tr>\n",
       "      <th>Date</th>\n",
       "      <th>Species</th>\n",
       "      <th>Trap</th>\n",
       "      <th>Latitude</th>\n",
       "      <th>Longitude</th>\n",
       "      <th></th>\n",
       "    </tr>\n",
       "  </thead>\n",
       "  <tbody>\n",
       "    <tr>\n",
       "      <th rowspan=\"5\" valign=\"top\">2007-05-29</th>\n",
       "      <th>CULEX PIPIENS</th>\n",
       "      <th>T096</th>\n",
       "      <th>41.731922</th>\n",
       "      <th>-87.677512</th>\n",
       "      <td>1</td>\n",
       "    </tr>\n",
       "    <tr>\n",
       "      <th rowspan=\"4\" valign=\"top\">CULEX PIPIENS/RESTUANS</th>\n",
       "      <th>T002</th>\n",
       "      <th>41.954690</th>\n",
       "      <th>-87.800991</th>\n",
       "      <td>1</td>\n",
       "    </tr>\n",
       "    <tr>\n",
       "      <th>T015</th>\n",
       "      <th>41.974089</th>\n",
       "      <th>-87.824812</th>\n",
       "      <td>1</td>\n",
       "    </tr>\n",
       "    <tr>\n",
       "      <th>T048</th>\n",
       "      <th>41.867108</th>\n",
       "      <th>-87.654224</th>\n",
       "      <td>1</td>\n",
       "    </tr>\n",
       "    <tr>\n",
       "      <th>T050</th>\n",
       "      <th>41.919343</th>\n",
       "      <th>-87.694259</th>\n",
       "      <td>1</td>\n",
       "    </tr>\n",
       "    <tr>\n",
       "      <th>...</th>\n",
       "      <th>...</th>\n",
       "      <th>...</th>\n",
       "      <th>...</th>\n",
       "      <th>...</th>\n",
       "      <td>...</td>\n",
       "    </tr>\n",
       "    <tr>\n",
       "      <th rowspan=\"5\" valign=\"top\">2013-09-26</th>\n",
       "      <th rowspan=\"5\" valign=\"top\">CULEX RESTUANS</th>\n",
       "      <th>T082</th>\n",
       "      <th>41.803423</th>\n",
       "      <th>-87.642984</th>\n",
       "      <td>2</td>\n",
       "    </tr>\n",
       "    <tr>\n",
       "      <th>T102</th>\n",
       "      <th>41.750498</th>\n",
       "      <th>-87.605294</th>\n",
       "      <td>1</td>\n",
       "    </tr>\n",
       "    <tr>\n",
       "      <th>T209</th>\n",
       "      <th>41.740641</th>\n",
       "      <th>-87.546587</th>\n",
       "      <td>1</td>\n",
       "    </tr>\n",
       "    <tr>\n",
       "      <th>T220</th>\n",
       "      <th>41.963976</th>\n",
       "      <th>-87.691810</th>\n",
       "      <td>8</td>\n",
       "    </tr>\n",
       "    <tr>\n",
       "      <th>T221</th>\n",
       "      <th>41.659112</th>\n",
       "      <th>-87.538693</th>\n",
       "      <td>5</td>\n",
       "    </tr>\n",
       "  </tbody>\n",
       "</table>\n",
       "<p>8475 rows × 1 columns</p>\n",
       "</div>"
      ],
      "text/plain": [
       "                                                             NumMosquitos\n",
       "Date       Species                Trap Latitude  Longitude               \n",
       "2007-05-29 CULEX PIPIENS          T096 41.731922 -87.677512             1\n",
       "           CULEX PIPIENS/RESTUANS T002 41.954690 -87.800991             1\n",
       "                                  T015 41.974089 -87.824812             1\n",
       "                                  T048 41.867108 -87.654224             1\n",
       "                                  T050 41.919343 -87.694259             1\n",
       "...                                                                   ...\n",
       "2013-09-26 CULEX RESTUANS         T082 41.803423 -87.642984             2\n",
       "                                  T102 41.750498 -87.605294             1\n",
       "                                  T209 41.740641 -87.546587             1\n",
       "                                  T220 41.963976 -87.691810             8\n",
       "                                  T221 41.659112 -87.538693             5\n",
       "\n",
       "[8475 rows x 1 columns]"
      ]
     },
     "execution_count": 7,
     "metadata": {},
     "output_type": "execute_result"
    }
   ],
   "source": [
    "mozzies.groupby(['Date', 'Species', 'Trap', 'Latitude', 'Longitude']).sum()"
   ]
  },
  {
   "cell_type": "code",
   "execution_count": 8,
   "metadata": {},
   "outputs": [],
   "source": [
    "# Feature Elimination for train/test dataset\n",
    "train.drop(['Address', 'Block', 'Street', 'AddressNumberAndStreet', 'AddressAccuracy', 'NumMosquitos', 'WnvPresent'], axis= 1, inplace= True)\n",
    "test.drop(['Id', 'Address', 'Block', 'Street', 'AddressNumberAndStreet', 'AddressAccuracy'], axis= 1, inplace= True)"
   ]
  },
  {
   "cell_type": "code",
   "execution_count": 9,
   "metadata": {},
   "outputs": [],
   "source": [
    "# Changing dtype of 'Date' column to datetime\n",
    "train.Date = pd.to_datetime(train.Date)\n",
    "test.Date = pd.to_datetime(test.Date)"
   ]
  },
  {
   "cell_type": "markdown",
   "metadata": {},
   "source": [
    "Weather set: \n",
    " - Missing values are represented as 'M', '-'. These will be filled with None.\n",
    " - Trace values represented by 'T' will be replaced by 0.1.\n",
    " - CodeSum column contains multiple empty rows and the feature information repetetive of other columns.\n",
    " - All the values in 'Water1' are missing, the columns will be dropped.\n",
    " - All the values in 'Depth' are 0.0 and only 17 values in 'SnowFall' are not 0.0 out of 1472, therefore these columns will be dropped\n",
    " - Rows will be seperated by station number and merged using the mean values of the features from stn1 and stn2. "
   ]
  },
  {
   "cell_type": "code",
   "execution_count": 10,
   "metadata": {},
   "outputs": [],
   "source": [
    "# Feature Elemination for the weather dataset\n",
    "weather.drop(['CodeSum', 'Water1', 'Depth', 'SnowFall'], axis= 1, inplace= True)"
   ]
  },
  {
   "cell_type": "code",
   "execution_count": 11,
   "metadata": {
    "scrolled": true
   },
   "outputs": [],
   "source": [
    "# Stripping all whitespace from values in weather dataframe\n",
    "for e in weather.columns:\n",
    "    if weather[e].dtype == 'object':\n",
    "        weather[e] = weather[e].apply(lambda x: x.strip())"
   ]
  },
  {
   "cell_type": "code",
   "execution_count": 12,
   "metadata": {},
   "outputs": [],
   "source": [
    "# Replaceing missing values with None\n",
    "weather = weather.apply(lambda x: x.replace(to_replace= ['M', '-'], value= None))"
   ]
  },
  {
   "cell_type": "code",
   "execution_count": 13,
   "metadata": {},
   "outputs": [],
   "source": [
    "# Replacing trace values with 0.1\n",
    "weather = weather.apply(lambda x: x.replace(to_replace= ['T'], value= 0.1))"
   ]
  },
  {
   "cell_type": "code",
   "execution_count": 14,
   "metadata": {},
   "outputs": [],
   "source": [
    "# Changing dtype of columns below to integer\n",
    "weather[['Tavg', 'Depart', 'WetBulb', 'Heat', 'Cool', 'Sunrise', 'Sunset']] = weather[['Tavg', 'Depart', 'WetBulb', 'Heat', 'Cool', 'Sunrise', 'Sunset']].astype(int)"
   ]
  },
  {
   "cell_type": "code",
   "execution_count": 15,
   "metadata": {},
   "outputs": [],
   "source": [
    "# Changing dtype of columns below to float\n",
    "weather[['PrecipTotal', 'StnPressure', 'SeaLevel', 'AvgSpeed']] = weather[['PrecipTotal', 'StnPressure', 'SeaLevel', 'AvgSpeed']].astype(float)"
   ]
  },
  {
   "cell_type": "code",
   "execution_count": 16,
   "metadata": {},
   "outputs": [],
   "source": [
    "# Changing dtype of 'Date' column to datetime\n",
    "weather.Date = pd.to_datetime(weather.Date)"
   ]
  },
  {
   "cell_type": "code",
   "execution_count": 17,
   "metadata": {},
   "outputs": [
    {
     "name": "stdout",
     "output_type": "stream",
     "text": [
      "(1472, 17)\n",
      "(1472, 17)\n"
     ]
    }
   ],
   "source": [
    "# Splitting weather data by station number\n",
    "weather_stn1 = weather[weather['Station']==1]\n",
    "weather_stn2 = weather[weather['Station']==2]\n",
    "weather_stn1 = weather_stn1.drop('Station', axis=1)\n",
    "weather_stn2 = weather_stn2.drop('Station', axis=1)\n",
    "print(weather_stn1.shape)\n",
    "print(weather_stn2.shape)"
   ]
  },
  {
   "cell_type": "code",
   "execution_count": 18,
   "metadata": {},
   "outputs": [],
   "source": [
    "# Taking the mean of 2 station's data togather to form a new dataframe\n",
    "weather_fin = pd.concat([weather_stn1, weather_stn2]).groupby('Date', as_index=False).mean()"
   ]
  },
  {
   "cell_type": "markdown",
   "metadata": {},
   "source": [
    "Spray set:\n",
    "<br>\n",
    " - A column indicating 1 if spraying occured on the date and location specified was created."
   ]
  },
  {
   "cell_type": "code",
   "execution_count": 19,
   "metadata": {},
   "outputs": [],
   "source": [
    "spray['Spray'] = 1"
   ]
  },
  {
   "cell_type": "code",
   "execution_count": 20,
   "metadata": {},
   "outputs": [],
   "source": [
    "spray.Date = pd.to_datetime(spray.Date)"
   ]
  },
  {
   "cell_type": "code",
   "execution_count": 21,
   "metadata": {},
   "outputs": [],
   "source": [
    "spray.drop('Time', axis= 1, inplace= True)"
   ]
  },
  {
   "cell_type": "code",
   "execution_count": 22,
   "metadata": {},
   "outputs": [
    {
     "data": {
      "text/html": [
       "<div>\n",
       "<style scoped>\n",
       "    .dataframe tbody tr th:only-of-type {\n",
       "        vertical-align: middle;\n",
       "    }\n",
       "\n",
       "    .dataframe tbody tr th {\n",
       "        vertical-align: top;\n",
       "    }\n",
       "\n",
       "    .dataframe thead th {\n",
       "        text-align: right;\n",
       "    }\n",
       "</style>\n",
       "<table border=\"1\" class=\"dataframe\">\n",
       "  <thead>\n",
       "    <tr style=\"text-align: right;\">\n",
       "      <th></th>\n",
       "      <th>Date</th>\n",
       "      <th>Latitude</th>\n",
       "      <th>Longitude</th>\n",
       "      <th>Spray</th>\n",
       "    </tr>\n",
       "  </thead>\n",
       "  <tbody>\n",
       "    <tr>\n",
       "      <th>0</th>\n",
       "      <td>2011-08-29</td>\n",
       "      <td>42.391623</td>\n",
       "      <td>-88.089163</td>\n",
       "      <td>1</td>\n",
       "    </tr>\n",
       "    <tr>\n",
       "      <th>1</th>\n",
       "      <td>2011-08-29</td>\n",
       "      <td>42.391348</td>\n",
       "      <td>-88.089163</td>\n",
       "      <td>1</td>\n",
       "    </tr>\n",
       "    <tr>\n",
       "      <th>2</th>\n",
       "      <td>2011-08-29</td>\n",
       "      <td>42.391022</td>\n",
       "      <td>-88.089157</td>\n",
       "      <td>1</td>\n",
       "    </tr>\n",
       "    <tr>\n",
       "      <th>3</th>\n",
       "      <td>2011-08-29</td>\n",
       "      <td>42.390637</td>\n",
       "      <td>-88.089158</td>\n",
       "      <td>1</td>\n",
       "    </tr>\n",
       "    <tr>\n",
       "      <th>4</th>\n",
       "      <td>2011-08-29</td>\n",
       "      <td>42.390410</td>\n",
       "      <td>-88.088858</td>\n",
       "      <td>1</td>\n",
       "    </tr>\n",
       "  </tbody>\n",
       "</table>\n",
       "</div>"
      ],
      "text/plain": [
       "        Date   Latitude  Longitude  Spray\n",
       "0 2011-08-29  42.391623 -88.089163      1\n",
       "1 2011-08-29  42.391348 -88.089163      1\n",
       "2 2011-08-29  42.391022 -88.089157      1\n",
       "3 2011-08-29  42.390637 -88.089158      1\n",
       "4 2011-08-29  42.390410 -88.088858      1"
      ]
     },
     "execution_count": 22,
     "metadata": {},
     "output_type": "execute_result"
    }
   ],
   "source": [
    "spray.head()"
   ]
  },
  {
   "cell_type": "markdown",
   "metadata": {},
   "source": [
    "Merging:\n",
    "(spray dataset has been excluded)\n",
    "- train + weather dataframes\n",
    "- test + weather dataframes"
   ]
  },
  {
   "cell_type": "code",
   "execution_count": 23,
   "metadata": {
    "scrolled": true
   },
   "outputs": [],
   "source": [
    "# Final train dataset\n",
    "train_fin = train.merge(weather_fin, how= 'left', on= 'Date')"
   ]
  },
  {
   "cell_type": "code",
   "execution_count": 24,
   "metadata": {},
   "outputs": [],
   "source": [
    "# Final test Dataset\n",
    "test_fin = test.merge(weather_fin, how= 'left', on= 'Date')"
   ]
  },
  {
   "cell_type": "markdown",
   "metadata": {},
   "source": [
    "### Note to group: \n",
    "The cells below display the information for:\n",
    "<br><br>\n",
    "**train_fin** - Final version of the training dataset\n",
    "<br><br>\n",
    "**test_fin** - Final version of the test dataset\n",
    "<br><br>\n",
    "**labels** - Target/y dataset"
   ]
  },
  {
   "cell_type": "code",
   "execution_count": 25,
   "metadata": {},
   "outputs": [
    {
     "data": {
      "text/html": [
       "<div>\n",
       "<style scoped>\n",
       "    .dataframe tbody tr th:only-of-type {\n",
       "        vertical-align: middle;\n",
       "    }\n",
       "\n",
       "    .dataframe tbody tr th {\n",
       "        vertical-align: top;\n",
       "    }\n",
       "\n",
       "    .dataframe thead th {\n",
       "        text-align: right;\n",
       "    }\n",
       "</style>\n",
       "<table border=\"1\" class=\"dataframe\">\n",
       "  <thead>\n",
       "    <tr style=\"text-align: right;\">\n",
       "      <th></th>\n",
       "      <th>Date</th>\n",
       "      <th>Species</th>\n",
       "      <th>Trap</th>\n",
       "      <th>Latitude</th>\n",
       "      <th>Longitude</th>\n",
       "      <th>Tmax</th>\n",
       "      <th>Tmin</th>\n",
       "      <th>Tavg</th>\n",
       "      <th>Depart</th>\n",
       "      <th>DewPoint</th>\n",
       "      <th>...</th>\n",
       "      <th>Heat</th>\n",
       "      <th>Cool</th>\n",
       "      <th>Sunrise</th>\n",
       "      <th>Sunset</th>\n",
       "      <th>PrecipTotal</th>\n",
       "      <th>StnPressure</th>\n",
       "      <th>SeaLevel</th>\n",
       "      <th>ResultSpeed</th>\n",
       "      <th>ResultDir</th>\n",
       "      <th>AvgSpeed</th>\n",
       "    </tr>\n",
       "  </thead>\n",
       "  <tbody>\n",
       "    <tr>\n",
       "      <th>0</th>\n",
       "      <td>2007-05-29</td>\n",
       "      <td>CULEX PIPIENS/RESTUANS</td>\n",
       "      <td>T002</td>\n",
       "      <td>41.954690</td>\n",
       "      <td>-87.800991</td>\n",
       "      <td>88.0</td>\n",
       "      <td>62.5</td>\n",
       "      <td>75.5</td>\n",
       "      <td>10.0</td>\n",
       "      <td>58.5</td>\n",
       "      <td>...</td>\n",
       "      <td>0.0</td>\n",
       "      <td>10.5</td>\n",
       "      <td>421.0</td>\n",
       "      <td>1917.0</td>\n",
       "      <td>0.0</td>\n",
       "      <td>29.415</td>\n",
       "      <td>30.1</td>\n",
       "      <td>5.8</td>\n",
       "      <td>17.0</td>\n",
       "      <td>6.95</td>\n",
       "    </tr>\n",
       "    <tr>\n",
       "      <th>1</th>\n",
       "      <td>2007-05-29</td>\n",
       "      <td>CULEX RESTUANS</td>\n",
       "      <td>T002</td>\n",
       "      <td>41.954690</td>\n",
       "      <td>-87.800991</td>\n",
       "      <td>88.0</td>\n",
       "      <td>62.5</td>\n",
       "      <td>75.5</td>\n",
       "      <td>10.0</td>\n",
       "      <td>58.5</td>\n",
       "      <td>...</td>\n",
       "      <td>0.0</td>\n",
       "      <td>10.5</td>\n",
       "      <td>421.0</td>\n",
       "      <td>1917.0</td>\n",
       "      <td>0.0</td>\n",
       "      <td>29.415</td>\n",
       "      <td>30.1</td>\n",
       "      <td>5.8</td>\n",
       "      <td>17.0</td>\n",
       "      <td>6.95</td>\n",
       "    </tr>\n",
       "    <tr>\n",
       "      <th>2</th>\n",
       "      <td>2007-05-29</td>\n",
       "      <td>CULEX RESTUANS</td>\n",
       "      <td>T007</td>\n",
       "      <td>41.994991</td>\n",
       "      <td>-87.769279</td>\n",
       "      <td>88.0</td>\n",
       "      <td>62.5</td>\n",
       "      <td>75.5</td>\n",
       "      <td>10.0</td>\n",
       "      <td>58.5</td>\n",
       "      <td>...</td>\n",
       "      <td>0.0</td>\n",
       "      <td>10.5</td>\n",
       "      <td>421.0</td>\n",
       "      <td>1917.0</td>\n",
       "      <td>0.0</td>\n",
       "      <td>29.415</td>\n",
       "      <td>30.1</td>\n",
       "      <td>5.8</td>\n",
       "      <td>17.0</td>\n",
       "      <td>6.95</td>\n",
       "    </tr>\n",
       "    <tr>\n",
       "      <th>3</th>\n",
       "      <td>2007-05-29</td>\n",
       "      <td>CULEX PIPIENS/RESTUANS</td>\n",
       "      <td>T015</td>\n",
       "      <td>41.974089</td>\n",
       "      <td>-87.824812</td>\n",
       "      <td>88.0</td>\n",
       "      <td>62.5</td>\n",
       "      <td>75.5</td>\n",
       "      <td>10.0</td>\n",
       "      <td>58.5</td>\n",
       "      <td>...</td>\n",
       "      <td>0.0</td>\n",
       "      <td>10.5</td>\n",
       "      <td>421.0</td>\n",
       "      <td>1917.0</td>\n",
       "      <td>0.0</td>\n",
       "      <td>29.415</td>\n",
       "      <td>30.1</td>\n",
       "      <td>5.8</td>\n",
       "      <td>17.0</td>\n",
       "      <td>6.95</td>\n",
       "    </tr>\n",
       "    <tr>\n",
       "      <th>4</th>\n",
       "      <td>2007-05-29</td>\n",
       "      <td>CULEX RESTUANS</td>\n",
       "      <td>T015</td>\n",
       "      <td>41.974089</td>\n",
       "      <td>-87.824812</td>\n",
       "      <td>88.0</td>\n",
       "      <td>62.5</td>\n",
       "      <td>75.5</td>\n",
       "      <td>10.0</td>\n",
       "      <td>58.5</td>\n",
       "      <td>...</td>\n",
       "      <td>0.0</td>\n",
       "      <td>10.5</td>\n",
       "      <td>421.0</td>\n",
       "      <td>1917.0</td>\n",
       "      <td>0.0</td>\n",
       "      <td>29.415</td>\n",
       "      <td>30.1</td>\n",
       "      <td>5.8</td>\n",
       "      <td>17.0</td>\n",
       "      <td>6.95</td>\n",
       "    </tr>\n",
       "  </tbody>\n",
       "</table>\n",
       "<p>5 rows × 21 columns</p>\n",
       "</div>"
      ],
      "text/plain": [
       "        Date                 Species  Trap   Latitude  Longitude  Tmax  Tmin  \\\n",
       "0 2007-05-29  CULEX PIPIENS/RESTUANS  T002  41.954690 -87.800991  88.0  62.5   \n",
       "1 2007-05-29          CULEX RESTUANS  T002  41.954690 -87.800991  88.0  62.5   \n",
       "2 2007-05-29          CULEX RESTUANS  T007  41.994991 -87.769279  88.0  62.5   \n",
       "3 2007-05-29  CULEX PIPIENS/RESTUANS  T015  41.974089 -87.824812  88.0  62.5   \n",
       "4 2007-05-29          CULEX RESTUANS  T015  41.974089 -87.824812  88.0  62.5   \n",
       "\n",
       "   Tavg  Depart  DewPoint  ...  Heat  Cool  Sunrise  Sunset  PrecipTotal  \\\n",
       "0  75.5    10.0      58.5  ...   0.0  10.5    421.0  1917.0          0.0   \n",
       "1  75.5    10.0      58.5  ...   0.0  10.5    421.0  1917.0          0.0   \n",
       "2  75.5    10.0      58.5  ...   0.0  10.5    421.0  1917.0          0.0   \n",
       "3  75.5    10.0      58.5  ...   0.0  10.5    421.0  1917.0          0.0   \n",
       "4  75.5    10.0      58.5  ...   0.0  10.5    421.0  1917.0          0.0   \n",
       "\n",
       "   StnPressure  SeaLevel  ResultSpeed  ResultDir  AvgSpeed  \n",
       "0       29.415      30.1          5.8       17.0      6.95  \n",
       "1       29.415      30.1          5.8       17.0      6.95  \n",
       "2       29.415      30.1          5.8       17.0      6.95  \n",
       "3       29.415      30.1          5.8       17.0      6.95  \n",
       "4       29.415      30.1          5.8       17.0      6.95  \n",
       "\n",
       "[5 rows x 21 columns]"
      ]
     },
     "execution_count": 25,
     "metadata": {},
     "output_type": "execute_result"
    }
   ],
   "source": [
    "train_fin.head()"
   ]
  },
  {
   "cell_type": "code",
   "execution_count": 26,
   "metadata": {},
   "outputs": [
    {
     "data": {
      "text/html": [
       "<div>\n",
       "<style scoped>\n",
       "    .dataframe tbody tr th:only-of-type {\n",
       "        vertical-align: middle;\n",
       "    }\n",
       "\n",
       "    .dataframe tbody tr th {\n",
       "        vertical-align: top;\n",
       "    }\n",
       "\n",
       "    .dataframe thead th {\n",
       "        text-align: right;\n",
       "    }\n",
       "</style>\n",
       "<table border=\"1\" class=\"dataframe\">\n",
       "  <thead>\n",
       "    <tr style=\"text-align: right;\">\n",
       "      <th></th>\n",
       "      <th>Date</th>\n",
       "      <th>Species</th>\n",
       "      <th>Trap</th>\n",
       "      <th>Latitude</th>\n",
       "      <th>Longitude</th>\n",
       "      <th>Tmax</th>\n",
       "      <th>Tmin</th>\n",
       "      <th>Tavg</th>\n",
       "      <th>Depart</th>\n",
       "      <th>DewPoint</th>\n",
       "      <th>...</th>\n",
       "      <th>Heat</th>\n",
       "      <th>Cool</th>\n",
       "      <th>Sunrise</th>\n",
       "      <th>Sunset</th>\n",
       "      <th>PrecipTotal</th>\n",
       "      <th>StnPressure</th>\n",
       "      <th>SeaLevel</th>\n",
       "      <th>ResultSpeed</th>\n",
       "      <th>ResultDir</th>\n",
       "      <th>AvgSpeed</th>\n",
       "    </tr>\n",
       "  </thead>\n",
       "  <tbody>\n",
       "    <tr>\n",
       "      <th>0</th>\n",
       "      <td>2008-06-11</td>\n",
       "      <td>CULEX PIPIENS/RESTUANS</td>\n",
       "      <td>T002</td>\n",
       "      <td>41.95469</td>\n",
       "      <td>-87.800991</td>\n",
       "      <td>86.0</td>\n",
       "      <td>63.5</td>\n",
       "      <td>75.0</td>\n",
       "      <td>7.0</td>\n",
       "      <td>55.5</td>\n",
       "      <td>...</td>\n",
       "      <td>0.0</td>\n",
       "      <td>10.0</td>\n",
       "      <td>416.0</td>\n",
       "      <td>1926.0</td>\n",
       "      <td>0.0</td>\n",
       "      <td>29.31</td>\n",
       "      <td>29.98</td>\n",
       "      <td>9.15</td>\n",
       "      <td>18.0</td>\n",
       "      <td>10.2</td>\n",
       "    </tr>\n",
       "    <tr>\n",
       "      <th>1</th>\n",
       "      <td>2008-06-11</td>\n",
       "      <td>CULEX RESTUANS</td>\n",
       "      <td>T002</td>\n",
       "      <td>41.95469</td>\n",
       "      <td>-87.800991</td>\n",
       "      <td>86.0</td>\n",
       "      <td>63.5</td>\n",
       "      <td>75.0</td>\n",
       "      <td>7.0</td>\n",
       "      <td>55.5</td>\n",
       "      <td>...</td>\n",
       "      <td>0.0</td>\n",
       "      <td>10.0</td>\n",
       "      <td>416.0</td>\n",
       "      <td>1926.0</td>\n",
       "      <td>0.0</td>\n",
       "      <td>29.31</td>\n",
       "      <td>29.98</td>\n",
       "      <td>9.15</td>\n",
       "      <td>18.0</td>\n",
       "      <td>10.2</td>\n",
       "    </tr>\n",
       "    <tr>\n",
       "      <th>2</th>\n",
       "      <td>2008-06-11</td>\n",
       "      <td>CULEX PIPIENS</td>\n",
       "      <td>T002</td>\n",
       "      <td>41.95469</td>\n",
       "      <td>-87.800991</td>\n",
       "      <td>86.0</td>\n",
       "      <td>63.5</td>\n",
       "      <td>75.0</td>\n",
       "      <td>7.0</td>\n",
       "      <td>55.5</td>\n",
       "      <td>...</td>\n",
       "      <td>0.0</td>\n",
       "      <td>10.0</td>\n",
       "      <td>416.0</td>\n",
       "      <td>1926.0</td>\n",
       "      <td>0.0</td>\n",
       "      <td>29.31</td>\n",
       "      <td>29.98</td>\n",
       "      <td>9.15</td>\n",
       "      <td>18.0</td>\n",
       "      <td>10.2</td>\n",
       "    </tr>\n",
       "    <tr>\n",
       "      <th>3</th>\n",
       "      <td>2008-06-11</td>\n",
       "      <td>CULEX SALINARIUS</td>\n",
       "      <td>T002</td>\n",
       "      <td>41.95469</td>\n",
       "      <td>-87.800991</td>\n",
       "      <td>86.0</td>\n",
       "      <td>63.5</td>\n",
       "      <td>75.0</td>\n",
       "      <td>7.0</td>\n",
       "      <td>55.5</td>\n",
       "      <td>...</td>\n",
       "      <td>0.0</td>\n",
       "      <td>10.0</td>\n",
       "      <td>416.0</td>\n",
       "      <td>1926.0</td>\n",
       "      <td>0.0</td>\n",
       "      <td>29.31</td>\n",
       "      <td>29.98</td>\n",
       "      <td>9.15</td>\n",
       "      <td>18.0</td>\n",
       "      <td>10.2</td>\n",
       "    </tr>\n",
       "    <tr>\n",
       "      <th>4</th>\n",
       "      <td>2008-06-11</td>\n",
       "      <td>CULEX TERRITANS</td>\n",
       "      <td>T002</td>\n",
       "      <td>41.95469</td>\n",
       "      <td>-87.800991</td>\n",
       "      <td>86.0</td>\n",
       "      <td>63.5</td>\n",
       "      <td>75.0</td>\n",
       "      <td>7.0</td>\n",
       "      <td>55.5</td>\n",
       "      <td>...</td>\n",
       "      <td>0.0</td>\n",
       "      <td>10.0</td>\n",
       "      <td>416.0</td>\n",
       "      <td>1926.0</td>\n",
       "      <td>0.0</td>\n",
       "      <td>29.31</td>\n",
       "      <td>29.98</td>\n",
       "      <td>9.15</td>\n",
       "      <td>18.0</td>\n",
       "      <td>10.2</td>\n",
       "    </tr>\n",
       "  </tbody>\n",
       "</table>\n",
       "<p>5 rows × 21 columns</p>\n",
       "</div>"
      ],
      "text/plain": [
       "        Date                 Species  Trap  Latitude  Longitude  Tmax  Tmin  \\\n",
       "0 2008-06-11  CULEX PIPIENS/RESTUANS  T002  41.95469 -87.800991  86.0  63.5   \n",
       "1 2008-06-11          CULEX RESTUANS  T002  41.95469 -87.800991  86.0  63.5   \n",
       "2 2008-06-11           CULEX PIPIENS  T002  41.95469 -87.800991  86.0  63.5   \n",
       "3 2008-06-11        CULEX SALINARIUS  T002  41.95469 -87.800991  86.0  63.5   \n",
       "4 2008-06-11         CULEX TERRITANS  T002  41.95469 -87.800991  86.0  63.5   \n",
       "\n",
       "   Tavg  Depart  DewPoint  ...  Heat  Cool  Sunrise  Sunset  PrecipTotal  \\\n",
       "0  75.0     7.0      55.5  ...   0.0  10.0    416.0  1926.0          0.0   \n",
       "1  75.0     7.0      55.5  ...   0.0  10.0    416.0  1926.0          0.0   \n",
       "2  75.0     7.0      55.5  ...   0.0  10.0    416.0  1926.0          0.0   \n",
       "3  75.0     7.0      55.5  ...   0.0  10.0    416.0  1926.0          0.0   \n",
       "4  75.0     7.0      55.5  ...   0.0  10.0    416.0  1926.0          0.0   \n",
       "\n",
       "   StnPressure  SeaLevel  ResultSpeed  ResultDir  AvgSpeed  \n",
       "0        29.31     29.98         9.15       18.0      10.2  \n",
       "1        29.31     29.98         9.15       18.0      10.2  \n",
       "2        29.31     29.98         9.15       18.0      10.2  \n",
       "3        29.31     29.98         9.15       18.0      10.2  \n",
       "4        29.31     29.98         9.15       18.0      10.2  \n",
       "\n",
       "[5 rows x 21 columns]"
      ]
     },
     "execution_count": 26,
     "metadata": {},
     "output_type": "execute_result"
    }
   ],
   "source": [
    "test_fin.head()"
   ]
  },
  {
   "cell_type": "code",
   "execution_count": 31,
   "metadata": {},
   "outputs": [
    {
     "data": {
      "text/plain": [
       "0    0\n",
       "1    0\n",
       "2    0\n",
       "3    0\n",
       "4    0\n",
       "Name: WnvPresent, dtype: int64"
      ]
     },
     "execution_count": 31,
     "metadata": {},
     "output_type": "execute_result"
    }
   ],
   "source": [
    "labels.head()"
   ]
  },
  {
   "cell_type": "code",
   "execution_count": 27,
   "metadata": {},
   "outputs": [
    {
     "data": {
      "text/plain": [
       "Index(['Date', 'Species', 'Trap', 'Latitude', 'Longitude', 'Tmax', 'Tmin',\n",
       "       'Tavg', 'Depart', 'DewPoint', 'WetBulb', 'Heat', 'Cool', 'Sunrise',\n",
       "       'Sunset', 'PrecipTotal', 'StnPressure', 'SeaLevel', 'ResultSpeed',\n",
       "       'ResultDir', 'AvgSpeed'],\n",
       "      dtype='object')"
      ]
     },
     "execution_count": 27,
     "metadata": {},
     "output_type": "execute_result"
    }
   ],
   "source": [
    "train_fin.columns"
   ]
  },
  {
   "cell_type": "code",
   "execution_count": 28,
   "metadata": {},
   "outputs": [
    {
     "data": {
      "text/plain": [
       "Index(['Date', 'Species', 'Trap', 'Latitude', 'Longitude', 'Tmax', 'Tmin',\n",
       "       'Tavg', 'Depart', 'DewPoint', 'WetBulb', 'Heat', 'Cool', 'Sunrise',\n",
       "       'Sunset', 'PrecipTotal', 'StnPressure', 'SeaLevel', 'ResultSpeed',\n",
       "       'ResultDir', 'AvgSpeed'],\n",
       "      dtype='object')"
      ]
     },
     "execution_count": 28,
     "metadata": {},
     "output_type": "execute_result"
    }
   ],
   "source": [
    "test_fin.columns"
   ]
  },
  {
   "cell_type": "code",
   "execution_count": 29,
   "metadata": {},
   "outputs": [
    {
     "data": {
      "text/plain": [
       "Date           datetime64[ns]\n",
       "Species                object\n",
       "Trap                   object\n",
       "Latitude              float64\n",
       "Longitude             float64\n",
       "Tmax                  float64\n",
       "Tmin                  float64\n",
       "Tavg                  float64\n",
       "Depart                float64\n",
       "DewPoint              float64\n",
       "WetBulb               float64\n",
       "Heat                  float64\n",
       "Cool                  float64\n",
       "Sunrise               float64\n",
       "Sunset                float64\n",
       "PrecipTotal           float64\n",
       "StnPressure           float64\n",
       "SeaLevel              float64\n",
       "ResultSpeed           float64\n",
       "ResultDir             float64\n",
       "AvgSpeed              float64\n",
       "dtype: object"
      ]
     },
     "execution_count": 29,
     "metadata": {},
     "output_type": "execute_result"
    }
   ],
   "source": [
    "train_fin.dtypes"
   ]
  },
  {
   "cell_type": "code",
   "execution_count": 30,
   "metadata": {},
   "outputs": [
    {
     "data": {
      "text/plain": [
       "Date           datetime64[ns]\n",
       "Species                object\n",
       "Trap                   object\n",
       "Latitude              float64\n",
       "Longitude             float64\n",
       "Tmax                  float64\n",
       "Tmin                  float64\n",
       "Tavg                  float64\n",
       "Depart                float64\n",
       "DewPoint              float64\n",
       "WetBulb               float64\n",
       "Heat                  float64\n",
       "Cool                  float64\n",
       "Sunrise               float64\n",
       "Sunset                float64\n",
       "PrecipTotal           float64\n",
       "StnPressure           float64\n",
       "SeaLevel              float64\n",
       "ResultSpeed           float64\n",
       "ResultDir             float64\n",
       "AvgSpeed              float64\n",
       "dtype: object"
      ]
     },
     "execution_count": 30,
     "metadata": {},
     "output_type": "execute_result"
    }
   ],
   "source": [
    "test_fin.dtypes"
   ]
  },
  {
   "cell_type": "code",
   "execution_count": null,
   "metadata": {},
   "outputs": [],
   "source": []
  }
 ],
 "metadata": {
  "kernelspec": {
   "display_name": "Python 3",
   "language": "python",
   "name": "python3"
  },
  "language_info": {
   "codemirror_mode": {
    "name": "ipython",
    "version": 3
   },
   "file_extension": ".py",
   "mimetype": "text/x-python",
   "name": "python",
   "nbconvert_exporter": "python",
   "pygments_lexer": "ipython3",
   "version": "3.7.5"
  }
 },
 "nbformat": 4,
 "nbformat_minor": 2
}
